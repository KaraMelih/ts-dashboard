{
 "cells": [
  {
   "cell_type": "markdown",
   "id": "78db612d",
   "metadata": {},
   "source": [
    "# Fetch data from CoinGecko"
   ]
  },
  {
   "cell_type": "code",
   "execution_count": 6,
   "id": "fcfe4613",
   "metadata": {},
   "outputs": [],
   "source": [
    "import numpy as np \n",
    "import matplotlib.pyplot as plt"
   ]
  },
  {
   "cell_type": "code",
   "execution_count": 7,
   "id": "43baa24b-3718-47c1-aa72-b032439f95bb",
   "metadata": {},
   "outputs": [],
   "source": [
    "#!/usr/bin/env python3\n",
    "import requests\n",
    "import datetime\n",
    "from sqlalchemy import (\n",
    "    create_engine, Column, Integer, Date, Float\n",
    ")\n",
    "from sqlalchemy.ext.declarative import declarative_base\n",
    "from sqlalchemy.orm import sessionmaker"
   ]
  },
  {
   "cell_type": "code",
   "execution_count": 8,
   "id": "a5acbd86-260f-45e3-89bf-42920425c44e",
   "metadata": {},
   "outputs": [],
   "source": [
    "# Configuration\n",
    "API_URL = \"https://api.coingecko.com/api/v3/coins/bitcoin/market_chart\""
   ]
  },
  {
   "cell_type": "code",
   "execution_count": 9,
   "id": "4fbc387d-defa-43a8-9ca4-3a88c7be68f6",
   "metadata": {},
   "outputs": [
    {
     "name": "stdout",
     "output_type": "stream",
     "text": [
      "https://api.coingecko.com/api/v3/coins/bitcoin/market_chart?vs_currency=usd&days=5\n",
      "200\n",
      "dict_keys(['prices', 'market_caps', 'total_volumes'])\n"
     ]
    }
   ],
   "source": [
    "### Sanity checks\n",
    "full = requests.get(API_URL, params={\"vs_currency\":\"usd\",\"days\":5})\n",
    "print(full.url)       # shows the expanded URL\n",
    "print(full.status_code)\n",
    "print(full.json().keys())"
   ]
  },
  {
   "cell_type": "code",
   "execution_count": 24,
   "id": "3b5804c0-ffa4-41cb-9459-3f3a1b4029fa",
   "metadata": {},
   "outputs": [
    {
     "name": "stderr",
     "output_type": "stream",
     "text": [
      "/tmp/ipykernel_5604/2864823468.py:4: MovedIn20Warning: The ``declarative_base()`` function is now available as sqlalchemy.orm.declarative_base(). (deprecated since: 2.0) (Background on SQLAlchemy 2.0 at: https://sqlalche.me/e/b8d9)\n",
      "  Base = declarative_base()\n"
     ]
    }
   ],
   "source": [
    "### Set up and Then Create a DataBase\n",
    "DB_PATH = \"../data/btc.sqlite\"\n",
    "# Set up SQLAlchemy\n",
    "Base = declarative_base()"
   ]
  },
  {
   "cell_type": "code",
   "execution_count": 25,
   "id": "47a227cb-570f-4c5e-aedb-3704c4fc0fd4",
   "metadata": {},
   "outputs": [
    {
     "data": {
      "text/plain": [
       "(MetaData(),\n",
       " [sqlalchemy.orm.decl_api.Base, object],\n",
       " <sqlalchemy.orm.decl_api.registry at 0x70f0cca775f0>)"
      ]
     },
     "execution_count": 25,
     "metadata": {},
     "output_type": "execute_result"
    }
   ],
   "source": [
    "Base.metadata, Base.mro(), Base.registry"
   ]
  },
  {
   "cell_type": "code",
   "execution_count": 26,
   "id": "2fa4a865-5e4d-4e60-a877-b4a41dc86c87",
   "metadata": {},
   "outputs": [],
   "source": [
    "## Define a class for the entries.\n",
    "## Each row will be a PricePoint with certain attributes\n",
    "class PricePoint(Base):\n",
    "    __tablename__ = \"price_points\"\n",
    "    id = Column(Integer, primary_key=True)\n",
    "    date = Column(Date, unique=True, nullable=False)\n",
    "    price = Column(Float, nullable=False)"
   ]
  },
  {
   "cell_type": "code",
   "execution_count": 36,
   "id": "db0a5a80-89dd-4ce4-bc16-a1a135a32928",
   "metadata": {},
   "outputs": [
    {
     "data": {
      "text/plain": [
       "(None, 'price_points', '2025-06-25', 15)"
      ]
     },
     "execution_count": 36,
     "metadata": {},
     "output_type": "execute_result"
    }
   ],
   "source": [
    "_pp = PricePoint(date=\"2025-06-25\", price=15)\n",
    "_pp.id, _pp.__tablename__, _pp.date, _pp.price"
   ]
  },
  {
   "cell_type": "markdown",
   "id": "5e6760ff-2101-4d19-8d94-2328ccc36342",
   "metadata": {},
   "source": [
    "## Create the database and session. "
   ]
  },
  {
   "cell_type": "code",
   "execution_count": null,
   "id": "5fdd8df8-9ef3-44ab-8d8d-017bbfe2c86b",
   "metadata": {},
   "outputs": [],
   "source": [
    "engine = create_engine(f\"sqlite:///{DB_PATH}\")\n",
    "Session = sessionmaker(bind=engine)"
   ]
  },
  {
   "cell_type": "code",
   "execution_count": null,
   "id": "b4fdb03d-6092-4d77-900a-14d0f416c707",
   "metadata": {},
   "outputs": [],
   "source": [
    "def fetch_last_5_days():\n",
    "    today = datetime.date.today()\n",
    "    # CoinGecko takes days as number; get 5 days back\n",
    "    params = {\"vs_currency\": \"usd\", \"days\": 5}\n",
    "    resp = requests.get(API_URL, params=params)\n",
    "    resp.raise_for_status()\n",
    "    data = resp.json()\n",
    "    # data[\"prices\"] is a list of [timestamp_ms, price]\n",
    "    points = []\n",
    "    for ts_ms, price in data[\"prices\"]:\n",
    "        # Convert ms → date\n",
    "        dt = datetime.date.fromtimestamp(ts_ms / 1000)\n",
    "        points.append((dt, float(price)))\n",
    "    # Keep unique dates (API returns multiple per day)\n",
    "    unique = {}\n",
    "    for dt, price in points:\n",
    "        unique[dt] = price\n",
    "    return unique.items()"
   ]
  },
  {
   "cell_type": "code",
   "execution_count": 11,
   "id": "baaf3589-9cfe-43cc-8a7a-9caaee5fedfb",
   "metadata": {},
   "outputs": [],
   "source": [
    "# create table if needed\n",
    "Base.metadata.create_all(engine)\n",
    "session = Session()"
   ]
  },
  {
   "cell_type": "code",
   "execution_count": 12,
   "id": "532616fb",
   "metadata": {},
   "outputs": [
    {
     "name": "stdout",
     "output_type": "stream",
     "text": [
      "Updated 2025-06-21: 102857.80399902674\n",
      "Updated 2025-06-22: 99514.84004623022\n",
      "Updated 2025-06-23: 103770.17564882364\n",
      "Updated 2025-06-24: 106091.85705647874\n",
      "Updated 2025-06-25: 107822.58717700628\n",
      "Updated 2025-06-26: 107104.91205849432\n"
     ]
    }
   ],
   "source": [
    "for dt, price in fetch_last_5_days():\n",
    "    # upsert: skip if already present\n",
    "    exists = session.query(PricePoint).filter_by(date=dt).first()\n",
    "    if exists:\n",
    "        exists.price = price\n",
    "        print(f\"Updated {dt}: {price}\")\n",
    "    else:\n",
    "        pp = PricePoint(date=dt, price=price)\n",
    "        session.add(pp)\n",
    "        print(f\"Inserted {dt}: {price}\")\n",
    "# session.commit()\n",
    "# session.close()\n",
    "# print(\"Done.\")"
   ]
  },
  {
   "cell_type": "code",
   "execution_count": 16,
   "id": "9e3fdefe",
   "metadata": {},
   "outputs": [],
   "source": [
    "session = Session()                   # open a transactional context\n",
    "# "
   ]
  },
  {
   "cell_type": "code",
   "execution_count": 17,
   "id": "73203144",
   "metadata": {},
   "outputs": [],
   "source": [
    "pp = PricePoint(date=dt, price=price)\n",
    "# session.add(pp)                       # stage a new row\n",
    "# session.commit()                      # flushes SQL to the DB\n",
    "# session.close()\n"
   ]
  },
  {
   "cell_type": "code",
   "execution_count": 1,
   "id": "5f585c93-9391-4809-9572-dea2cd70170f",
   "metadata": {},
   "outputs": [
    {
     "name": "stdout",
     "output_type": "stream",
     "text": [
      "https://api.coingecko.com/api/v3/coins/bitcoin/market_chart?vs_currency=usd&days=5\n",
      "200\n",
      "dict_keys(['prices', 'market_caps', 'total_volumes'])\n"
     ]
    }
   ],
   "source": []
  },
  {
   "cell_type": "markdown",
   "id": "b76727ab-f5ee-481d-92de-f9253db49bb3",
   "metadata": {},
   "source": [
    "sessions are just units of work, and you can certainly keep one open for a series of related operations. That said, there are good reasons to open and close sessions more granularly:\n",
    "\n",
    "Why close (and reopen) sessions\n",
    "Transaction boundaries\n",
    "Each session manages its own transaction. By committing and closing, you demarcate “this batch of work is done.” If you kept the session open forever, you’d be in one long-running transaction—risking stale data or locks.\n",
    "\n",
    "Resource management\n",
    "A session holds onto identity maps, caches, and database connections. Closing frees those resources so they can be reused elsewhere.\n",
    "\n",
    "Error isolation\n",
    "If something goes wrong (an exception), you can roll back that one session without impacting other work."
   ]
  },
  {
   "cell_type": "code",
   "execution_count": null,
   "id": "9000131d-f2a5-49bd-b9d7-52ff52bda6bb",
   "metadata": {},
   "outputs": [],
   "source": []
  },
  {
   "cell_type": "code",
   "execution_count": null,
   "id": "6079bdca-7a07-470a-a781-bff261b81e30",
   "metadata": {},
   "outputs": [],
   "source": []
  },
  {
   "cell_type": "code",
   "execution_count": null,
   "id": "32eb8c5f",
   "metadata": {},
   "outputs": [],
   "source": []
  },
  {
   "cell_type": "code",
   "execution_count": null,
   "id": "cd6e8c7b",
   "metadata": {},
   "outputs": [],
   "source": []
  }
 ],
 "metadata": {
  "kernelspec": {
   "display_name": "Python 3 (ipykernel)",
   "language": "python",
   "name": "python3"
  },
  "language_info": {
   "codemirror_mode": {
    "name": "ipython",
    "version": 3
   },
   "file_extension": ".py",
   "mimetype": "text/x-python",
   "name": "python",
   "nbconvert_exporter": "python",
   "pygments_lexer": "ipython3",
   "version": "3.12.3"
  }
 },
 "nbformat": 4,
 "nbformat_minor": 5
}
